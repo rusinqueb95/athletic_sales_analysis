# Import Libraries and Dependencies
import pandas as pd





# Read the CSV files into DataFrames.
athletic_sales_2020_df = pd.read_csv('Resources/athletic_sales_2020.csv')

athletic_sales_2021_df = pd.read_csv('Resources/athletic_sales_2021.csv')



# Display the 2020 sales DataFrame
athletic_sales_2020_df.head()



# Display the 2021 sales DataFrame
athletic_sales_2021_df.head()





# Check the 2020 sales data types.

print('Data Types for 2020 Sales Dataframe:')
print(athletic_sales_2020_df.dtypes)


# Check the 2021 sales data types.
print('Data Types for 2021 Sales Dataframe:')
print(athletic_sales_2021_df.dtypes)





# Combine the 2020 and 2021 sales DataFrames on the rows and reset the index.
combined_athletic_sales_df = pd.concat([athletic_sales_2020_df, athletic_sales_2021_df], ignore_index=True)

combined_athletic_sales_df.reset_index(drop=True, inplace=True)

combined_athletic_sales_df.head()


# Check if any values are null.
print("\nNull values in Combined DataFrame:")
print(combined_athletic_sales_df.isnull().sum())



# Check the data type of each column
print("Data Types for combined_athletic_sales_df Dataframe")
print(combined_athletic_sales_df.dtypes)

combined_athletic_sales_df.head()






# Convert the "invoice_date" to a datetime datatype
combined_athletic_sales_df['invoice_date'] = pd.to_datetime(combined_athletic_sales_df['invoice_date'], format='%m/%d/%y')
                        


# Confirm that the "invoice_date" data type has been changed.
print("After the invoice date to datetime conversion:")
print(combined_athletic_sales_df.dtypes)









# Show the number products sold for region, state, and city.

products_sold_df = combined_athletic_sales_df.groupby(['region', 'state', 'city'])['units_sold'].sum().reset_index()

# Rename the sum to "Total_Products_Sold".

products_sold_df.rename(columns={'units_sold': 'Total_Products_Sold'}, inplace=True)

# Show the top 5 results.

top_5_regions = products_sold_df.sort_values(by='Total_Products_Sold', ascending=False).head(5)   

print("Top 5 regions With the Most Products Sold:")
top_5_regions.head()





# Show the number products sold for region, state, and city.

products_sold_pivot = pd.pivot_table(combined_athletic_sales_df,
                                     index=['region', 'state', 'city'],
                                     values='units_sold',
                                     aggfunc='sum').reset_index()

# Rename the "units_sold" column to "Total_Products_Sold"

products_sold_pivot.rename(columns={'units_sold': 'Total_Products_Sold'}, inplace=True)

# Show the top 5 results.

top_5_regions = products_sold_pivot.sort_values(by='Total_Products_Sold', ascending=False).head(5)

print("Top 5 regions with the most Products Sold:")
top_5_regions.head()









# Show the total sales for the products sold for each region, state, and city.
total_sales_df = combined_athletic_sales_df.groupby(['region', 'state', 'city'])['total_sales'].sum().reset_index()
total_sales_df.head()

# Rename the "total_sales" column to "Total Sales"

total_sales_df.rename(columns={'total_sales': 'Total Sales'}, inplace=True)

# Show the top 5 results.

print("Top 5 Regions with the Most Sales:")
top_5_regions.head()





# Show the total sales for the products sold for each region, state, and city.

total_sales_pivot = pd.pivot_table(combined_athletic_sales_df,
                                   index=['region', 'state', 'city'],
                                   values='total_sales',
                                   aggfunc='sum').reset_index()

# Optional: Rename the "total_sales" column to "Total Sales"

total_sales_pivot.rename(columns={'total_sales': 'Total Sales'}, inplace=True)

# Show the top 5 results.

top_5_regions = total_sales_pivot.sort_values(by='Total Sales', ascending=False).head(5)

print("Top 5 Regions with the Most Total Sales:")

top_5_regions.head()








# Show the total sales for the products sold for each retailer, region, state, and city.

retailer_sales_grouped = combined_athletic_sales_df.groupby(['retailer', 'region', 'state', 'city']).agg({'total_sales': 'sum'}).reset_index()


# Rename the "total_sales" column to "Total Sales"

retailer_sales_grouped.rename(columns={'total_sales': 'Total Sales'}, inplace=True)


# Show the top 5 results.

top_retailers = retailer_sales_grouped.sort_values(by='Total Sales', ascending=False).head(5)

print("Top Retailers with the Most Total Sales:")
top_retailers.head()





# Show the total sales for the products sold for each retailer, region, state, and city.

retailer_sales_pivot = pd.pivot_table(combined_athletic_sales_df, 
                                      index=['retailer', 'region', 'state', 'city'], 
                                      values='total_sales', 
                                      aggfunc='sum').reset_index()

# Optional: Rename the "total_sales" column to "Total Sales"

retailer_sales_pivot.rename(columns={'total_sales': 'Total Sales'}, inplace=True)

# Show the top 5 results.

top_retailers_pivot = retailer_sales_pivot.sort_values(by='Total Sales', ascending=False).head(5)


print("Top 5 Retailers with the Most Total Sales using Pivot Table:")
top_retailers_pivot.head()






# Filter the sales data to get the women's athletic footwear sales data.

womens_footwear_df = combined_athletic_sales_df[combined_athletic_sales_df['product'] == "Women's Athletic Footwear"]

womens_footwear_df.head()






# Show the total number of women's athletic footwear sold for each retailer, region, state, and city.

womens_footwear_grouped = womens_footwear_df.groupby(['retailer', 'region', 'state', 'city']).agg({'units_sold': 'sum'}).reset_index()



# Rename the "units_sold" column to "Womens_Footwear_Units_Sold"

womens_footwear_grouped.rename(columns={'units_sold': 'Womens_Footwear_Units_Sold'}, inplace=True)


# Show the top 5 results.

top_womens_footwear_grouped = womens_footwear_grouped.sort_values(by='Womens_Footwear_Units_Sold', ascending=False).head(5)

print("Top 5 Retailers for Women's Athletic Footwear (Units Sold) using Groupby:")
top_womens_footwear_grouped.head()







# Show the total number of women's athletic footwear sold for each retailer, region, state, and city.

womens_footwear_df = combined_athletic_sales_df[combined_athletic_sales_df['product'] == "Women's Athletic Footwear"] 


womens_footwear_pivot = pd.pivot_table(womens_footwear_df,
                                       index=['retailer', 'region', 'state', 'city'],
                                       values='units_sold',
                                       aggfunc='sum').reset_index()

# Rename the "units_sold" column to "Womens_Footwear_Units_Sold"
womens_footwear_pivot.rename(columns={'units_sold': 'Womens_Footwear_Units_Sold'}, inplace=True)

# Show the top 5 results.

print("Top 5 Retailers for Women's Athletic Footwear (Units Sold) using Pivot Table:")

womens_footwear_pivot.head()





# Create a pivot table with the 'invoice_date' column is the index, and the "total_sales" as the values.
womens_footwear_df = combined_athletic_sales_df[combined_athletic_sales_df['product'] == "Women's Athletic Footwear"]



womens_footwear_sales_pivot = pd.pivot_table(womens_footwear_df,
                                             index='invoice_date',
                                             values='total_sales',
                                             aggfunc='sum')


# Optional: Rename the "total_sales" column to "Total Sales"

womens_footwear_sales_pivot.rename(columns={'total_sales': 'Total Sales'}, inplace=True)


# Show the table.

print("Women's Athletic Footwear Sales Pivot Table by Day:")
womens_footwear_sales_pivot.head()



# Resample the pivot table into daily bins, and get the total sales for each day.

daily_sales = womens_footwear_sales_pivot.resample('D').sum()

# Sort the resampled pivot table in descending order on "Total Sales".

sorted_daily_sales = daily_sales.sort_values(by='Total Sales', ascending=False)

print("Top Days for Women's Athletic Footwear Sales:")

sorted_daily_sales.head(10)






# Resample the pivot table into weekly bins, and get the total sales for each week.

weekly_sales = womens_footwear_sales_pivot.resample('W').sum()


# Sort the resampled pivot table in descending order on "Total Sales".

sorted_weekly_sales = weekly_sales.sort_values(by='Total Sales', ascending=False)

print("Top Weeks for Women's Athletic Footwear Sales:")
sorted_weekly_sales.head()



